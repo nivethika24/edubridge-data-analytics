{
 "cells": [
  {
   "cell_type": "code",
   "execution_count": null,
   "id": "92dfbd90",
   "metadata": {},
   "outputs": [
    {
     "name": "stdout",
     "output_type": "stream",
     "text": [
      "Welcome to unique movies\n",
      "\n",
      "Enter 'a' to add a movie, 'l' to see your movies, 'f' to find a movie by title, or 'q' to quit: q\n",
      "come back soon\n"
     ]
    }
   ],
   "source": [
    "# Incomplete app!\n",
    "print(\"Welcome to unique movies\")\n",
    "MENU_PROMPT = \"\\nEnter 'a' to add a movie, 'l' to see your movies, 'f' to find a movie by title, or 'q' to quit: \"\n",
    "movies = []\n",
    "\n",
    "def add_movie():\n",
    "    # You may want to create a function for this code\n",
    "    title = input(\"Enter the movie title: \")\n",
    "    director = input(\"Enter the movie director: \")\n",
    "    year = input(\"Enter the movie release year: \")\n",
    "    actor = input(\"Enter the actor name: \")\n",
    "    genre = input(\"Enter the genre: \")\n",
    "    language = input(\"Enter the language: \")\n",
    "\n",
    "    movies.append({\n",
    "    'title': title,\n",
    "    'director': director,\n",
    "    'year': year,\n",
    "    'actor': actor,\n",
    "    'genre': genre,\n",
    "    'language': language\n",
    "    })\n",
    "\n",
    "def show_movies():\n",
    "    for movie in movies:\n",
    "        print_movie(movie)\n",
    "        \n",
    "def print_movie(movie):\n",
    "    print(f\"Title:{movie['title']}\")\n",
    "    print(f\"Director:{movie['director']}\")\n",
    "    print(f\"year:{movie['year']}\")\n",
    "    print(f\"actor:{movie['actor']}\")\n",
    "    print(f\"genre:{movie['genre']}\")\n",
    "    print(f\"language:{movie['language']}\")\n",
    "def find_movie():\n",
    "    search = input(\"Enter what you are looking for?: \")\n",
    "    if search != \"\":\n",
    "        for movie in movies:\n",
    "            if movie['title']==search or movie['director']==search or movie['year']==search or movie['actor']==search or movie['genre']==search or movie['language']==search:\n",
    "                print_movie(movie)\n",
    "            else:\n",
    "                print(\"no Movie found, Please enter valid title\")\n",
    "        else:\n",
    "            print(\"type something\")\n",
    "# And another function here for the user menu\n",
    "def menu():\n",
    "    selection = input(MENU_PROMPT)\n",
    "    while selection != 'q':\n",
    "        if selection == \"a\":\n",
    "            add_movie()\n",
    "        \n",
    "        elif selection == \"l\":\n",
    "             show_movies()\n",
    "        \n",
    "        elif selection == \"f\":\n",
    "            find_movie()\n",
    "        else:\n",
    "            print('Unknown command. Please try again.')\n",
    "    print('come back soon')\n",
    "\n",
    "    selection = input(MENU_PROMPT)\n",
    "\n",
    "\n",
    "# Remember to run the user menu function at the end!\n",
    "menu()"
   ]
  },
  {
   "cell_type": "code",
   "execution_count": null,
   "id": "a8379291",
   "metadata": {},
   "outputs": [],
   "source": []
  },
  {
   "cell_type": "code",
   "execution_count": null,
   "id": "2bab9ef9",
   "metadata": {},
   "outputs": [],
   "source": []
  }
 ],
 "metadata": {
  "kernelspec": {
   "display_name": "Python 3 (ipykernel)",
   "language": "python",
   "name": "python3"
  },
  "language_info": {
   "codemirror_mode": {
    "name": "ipython",
    "version": 3
   },
   "file_extension": ".py",
   "mimetype": "text/x-python",
   "name": "python",
   "nbconvert_exporter": "python",
   "pygments_lexer": "ipython3",
   "version": "3.9.13"
  }
 },
 "nbformat": 4,
 "nbformat_minor": 5
}
